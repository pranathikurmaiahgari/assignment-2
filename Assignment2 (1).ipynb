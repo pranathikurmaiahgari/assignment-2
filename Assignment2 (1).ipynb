{
 "cells": [
  {
   "cell_type": "markdown",
   "id": "66769a9f-162c-43a6-9596-a83923e7579a",
   "metadata": {},
   "source": [
    "Q1. How do you comment code in Python? What are the different types of comments?"
   ]
  },
  {
   "cell_type": "code",
   "execution_count": 5,
   "id": "0283cefa-92a6-40fa-be0a-330545560f4d",
   "metadata": {},
   "outputs": [
    {
     "name": "stdout",
     "output_type": "stream",
     "text": [
      "comments\n"
     ]
    }
   ],
   "source": [
    "#we comment code in python using # symbol in starting of a sentence\n",
    "#comments are of two tyles 1.single line comments 2.multi line comments\n",
    "\"\"\" single line comments are written in a single line using # symbol in start of sentence\n",
    "    multi line comments are also called as documentation they are wriiten by using triple quotes in the start and the end of code\n",
    "\"\"\"\n",
    "print(\"comments\")"
   ]
  },
  {
   "cell_type": "markdown",
   "id": "d7c6c764-9fcb-461d-81c6-375691848272",
   "metadata": {},
   "source": [
    "Q2. What are variables in Python? How do you declare and assign values to variables?"
   ]
  },
  {
   "cell_type": "code",
   "execution_count": 6,
   "id": "9c6e6e65-a3de-49fb-a642-2c3e1fad3d09",
   "metadata": {},
   "outputs": [
    {
     "name": "stdout",
     "output_type": "stream",
     "text": [
      "11\n"
     ]
    }
   ],
   "source": [
    "#variables are like containers used for storing values\n",
    "#variables are declared by using a name and are assigned a value by using = symbol\n",
    "var=11\n",
    "print(var)"
   ]
  },
  {
   "cell_type": "markdown",
   "id": "e39172cd-bf82-48cf-86a8-8e5e76f06d41",
   "metadata": {},
   "source": [
    "Q3. How do you convert one data type to another in Python?"
   ]
  },
  {
   "cell_type": "code",
   "execution_count": 7,
   "id": "4abb5586-f9f7-4c55-b6cd-c48fcf2a00f6",
   "metadata": {},
   "outputs": [
    {
     "name": "stdout",
     "output_type": "stream",
     "text": [
      "16.968690000000002 <class 'float'>\n",
      "4.434\n",
      "4 <class 'int'>\n"
     ]
    }
   ],
   "source": [
    "#we convert from one data type to another by using type casting\n",
    "#there are two types of type casting\n",
    "#1.implicit type casting or coercion\n",
    "a=5\n",
    "b=11.96869\n",
    "print(a+b,type(a+b))\n",
    "#2.explicit  type conversion\n",
    "a=4.434\n",
    "b=int(a)\n",
    "print(a)\n",
    "print(b,type(b))\n"
   ]
  },
  {
   "cell_type": "markdown",
   "id": "4f6eb98b-8e43-455a-91ce-b95ec61c49b0",
   "metadata": {},
   "source": [
    "Q4. How do you write and execute a Python script from the command line?"
   ]
  },
  {
   "cell_type": "markdown",
   "id": "44f56372-7939-486d-8efc-0bcdb3ae450e",
   "metadata": {},
   "source": [
    "To write and execute a Python script from the command line, we follow these steps:\n",
    "\n",
    "1.Open a text editor and create a new file. For example, you can use a text editor like Notepad, Sublime Text, or Visual Studio Code.\n",
    "\n",
    "2.Write your Python code in the text file. For example, let's say you want to print \"Hello, World!\" as your script. You can write the following code:\n",
    "\n",
    "Ex : print(\"Hello, World!\")\n",
    "\n",
    "3.Save the file with a .py extension. For example, you can save the file as hello.py.\n",
    "\n",
    "4.Open the command prompt or terminal on your operating system.\n",
    "\n",
    "5.Navigate to the directory where you saved your Python script. You can use the cd command (Change Directory) to navigate to the desired directory.\n",
    "\n",
    "6.Once you are in the correct directory, you can execute the Python script by typing python followed by the name of your script file. In this case, you would enter the following command:\n",
    "\n",
    "7.Press the Enter/Return key to execute the command. The Python script will run, and you should see the output."
   ]
  },
  {
   "cell_type": "markdown",
   "id": "691fee60-fbf1-43b4-a536-246bdd12938c",
   "metadata": {},
   "source": [
    "Q5. Given a list my_list = [1, 2, 3, 4, 5], write the code to slice the list and obtain the sub-list [2, 3]."
   ]
  },
  {
   "cell_type": "code",
   "execution_count": 8,
   "id": "ba16f16e-afcb-4905-8e45-214b9ccb5642",
   "metadata": {},
   "outputs": [
    {
     "name": "stdout",
     "output_type": "stream",
     "text": [
      "[2, 3]\n"
     ]
    }
   ],
   "source": [
    "my_list=[1,2,3,4,5]\n",
    "sub_list=my_list[1:3]\n",
    "print(sub_list)"
   ]
  },
  {
   "cell_type": "markdown",
   "id": "4b3a4379-f586-46fa-a0e3-7a8c5ac79e22",
   "metadata": {},
   "source": [
    "Q6. What is a complex number in mathematics, and how is it represented in Python?"
   ]
  },
  {
   "cell_type": "code",
   "execution_count": 11,
   "id": "3dd51b2a-80ec-4276-92f5-9bc3e0431203",
   "metadata": {},
   "outputs": [
    {
     "name": "stdout",
     "output_type": "stream",
     "text": [
      "<class 'complex'>\n",
      "2.0\n",
      "3.0\n"
     ]
    }
   ],
   "source": [
    "#complex number is a number which contains both real part and imaginary part.it will be in the form of a+bi.but in python we write it as a+bj\n",
    "a=2+3j\n",
    "print(type(a))\n",
    "print(a.real)\n",
    "print(a.imag)"
   ]
  },
  {
   "cell_type": "markdown",
   "id": "0fc60caf-8044-4b93-85a7-e6ee1dc439a0",
   "metadata": {},
   "source": [
    "Q7. What is the correct way to declare a variable named age and assign the value 25 to it?"
   ]
  },
  {
   "cell_type": "code",
   "execution_count": 11,
   "id": "ee465573-0b21-474f-b6b1-9a3f80cba41e",
   "metadata": {},
   "outputs": [
    {
     "name": "stdout",
     "output_type": "stream",
     "text": [
      "25\n"
     ]
    }
   ],
   "source": [
    "#correct way to declare a variable is by just using its name.\n",
    "#its name should follow all the rules of naming a variable like first letter should be alphabet or underscore and all the other\n",
    "#declaration of a variable\n",
    "age=25\n",
    "print(age)\n"
   ]
  },
  {
   "cell_type": "markdown",
   "id": "3b63d70c-f4e3-4c2a-bcc0-2c3bd0b93758",
   "metadata": {},
   "source": [
    "Q8. Declare a variable named price and assign the value 9.99 to it. What data type does this variable\n",
    "belong to?"
   ]
  },
  {
   "cell_type": "code",
   "execution_count": 12,
   "id": "accf34b9-d982-4395-bd7b-e3acfd330491",
   "metadata": {},
   "outputs": [
    {
     "data": {
      "text/plain": [
       "float"
      ]
     },
     "execution_count": 12,
     "metadata": {},
     "output_type": "execute_result"
    }
   ],
   "source": [
    "price=9.99\n",
    "type(price)"
   ]
  },
  {
   "cell_type": "markdown",
   "id": "515e738e-7f37-487d-b6af-de39383aa1a2",
   "metadata": {},
   "source": [
    "Q9. Create a variable named name and assign your full name to it as a string. How would you print the\n",
    "value of this variable?"
   ]
  },
  {
   "cell_type": "code",
   "execution_count": 16,
   "id": "e36fa1cb-9cea-4e5c-9564-e7cd05804009",
   "metadata": {},
   "outputs": [
    {
     "name": "stdout",
     "output_type": "stream",
     "text": [
      "Pranathi Kurmaiahgari\n"
     ]
    }
   ],
   "source": [
    "name=\"Pranathi Kurmaiahgari\"\n",
    "print(name)"
   ]
  },
  {
   "cell_type": "markdown",
   "id": "c4f2d8f9-5bce-4298-a363-b3561ba50588",
   "metadata": {},
   "source": [
    "Q10. Given the string \"Hello, World!\", extract the substring \"World\"."
   ]
  },
  {
   "cell_type": "code",
   "execution_count": 17,
   "id": "70672c7b-d017-485d-98fd-d58c07856b81",
   "metadata": {},
   "outputs": [
    {
     "name": "stdout",
     "output_type": "stream",
     "text": [
      "World\n"
     ]
    }
   ],
   "source": [
    "string=\"Hello, World!\"\n",
    "substring=string[7:-1]\n",
    "print(substring)"
   ]
  },
  {
   "cell_type": "markdown",
   "id": "9f49c132-907e-4861-8f83-304512de72f5",
   "metadata": {},
   "source": [
    "Q11. Create a variable named \"is_student\" and assign it a boolean value indicating whether you are currently a student or not."
   ]
  },
  {
   "cell_type": "code",
   "execution_count": 13,
   "id": "ecc592f4-1f13-4ed2-9c09-09e606520362",
   "metadata": {},
   "outputs": [
    {
     "name": "stdout",
     "output_type": "stream",
     "text": [
      "True\n"
     ]
    }
   ],
   "source": [
    "is_student=True\n",
    "print(is_student)"
   ]
  },
  {
   "cell_type": "code",
   "execution_count": null,
   "id": "2e3cc539-267c-423d-863c-33976c5fe8be",
   "metadata": {},
   "outputs": [],
   "source": []
  }
 ],
 "metadata": {
  "kernelspec": {
   "display_name": "Python 3 (ipykernel)",
   "language": "python",
   "name": "python3"
  },
  "language_info": {
   "codemirror_mode": {
    "name": "ipython",
    "version": 3
   },
   "file_extension": ".py",
   "mimetype": "text/x-python",
   "name": "python",
   "nbconvert_exporter": "python",
   "pygments_lexer": "ipython3",
   "version": "3.10.8"
  }
 },
 "nbformat": 4,
 "nbformat_minor": 5
}
